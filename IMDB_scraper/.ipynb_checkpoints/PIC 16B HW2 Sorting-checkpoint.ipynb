{
 "cells": [
  {
   "cell_type": "code",
   "execution_count": 16,
   "id": "28324be6",
   "metadata": {},
   "outputs": [
    {
     "name": "stdout",
     "output_type": "stream",
     "text": [
      "                         actor\n",
      "movie_or_TV_name              \n",
      "Peaky Blinders             148\n",
      "Doctors                     48\n",
      "Casualty                    39\n",
      "The Bill                    34\n",
      "Coronation Street           29\n",
      "...                        ...\n",
      "Hotel Babylon                1\n",
      "Hot and Cold                 1\n",
      "Hot Press: Uncovered         1\n",
      "Hot Pepper                   1\n",
      "Mrs. Henderson Presents      1\n",
      "\n",
      "[7371 rows x 1 columns]\n"
     ]
    }
   ],
   "source": [
    "import pandas as pd\n",
    "\n",
    "df = pd.read_csv('results.csv')\n",
    "df = df.dropna()\n",
    "df = df[~df.iloc[:,1].str.startswith('Episode')]\n",
    "df = df[~df.iloc[:,1].str.startswith('Part')]\n",
    "df = df[~df.iloc[:,1].str.startswith('Show all')]\n",
    "dfcount = df.groupby(['movie_or_TV_name']).count()\n",
    "print(dfcount.sort_values('actor', ascending=False))"
   ]
  },
  {
   "cell_type": "code",
   "execution_count": null,
   "id": "134fedca",
   "metadata": {},
   "outputs": [],
   "source": []
  }
 ],
 "metadata": {
  "kernelspec": {
   "display_name": "Python [conda env:PIC16B]",
   "language": "python",
   "name": "conda-env-PIC16B-py"
  },
  "language_info": {
   "codemirror_mode": {
    "name": "ipython",
    "version": 3
   },
   "file_extension": ".py",
   "mimetype": "text/x-python",
   "name": "python",
   "nbconvert_exporter": "python",
   "pygments_lexer": "ipython3",
   "version": "3.7.13"
  }
 },
 "nbformat": 4,
 "nbformat_minor": 5
}
