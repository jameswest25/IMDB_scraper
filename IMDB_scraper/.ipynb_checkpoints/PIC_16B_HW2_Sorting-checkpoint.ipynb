{
 "cells": [
  {
   "cell_type": "code",
   "execution_count": 1,
   "id": "aa7f41b6",
   "metadata": {
    "scrolled": true
   },
   "outputs": [
    {
     "name": "stdout",
     "output_type": "stream",
     "text": [
      "                         actor\n",
      "movie_or_TV_name              \n",
      "Peaky Blinders             148\n",
      "Doctors                     48\n",
      "Casualty                    39\n",
      "The Bill                    34\n",
      "Coronation Street           29\n",
      "...                        ...\n",
      "Hotel Babylon                1\n",
      "Hot and Cold                 1\n",
      "Hot Press: Uncovered         1\n",
      "Hot Pepper                   1\n",
      "Mrs. Henderson Presents      1\n",
      "\n",
      "[7371 rows x 1 columns]\n"
     ]
    }
   ],
   "source": [
    "import pandas as pd\n",
    "\n",
    "df = pd.read_csv('results.csv')\n",
    "df = df.dropna()\n",
    "df = df[~df.iloc[:,1].str.startswith('Episode')]\n",
    "df = df[~df.iloc[:,1].str.startswith('Part')]\n",
    "df = df[~df.iloc[:,1].str.startswith('Show all')]\n",
    "dfcount = df.groupby(['movie_or_TV_name']).count()\n",
    "final = dfcount.sort_values('actor', ascending=False)\n",
    "print(final)"
   ]
  },
  {
   "cell_type": "code",
   "execution_count": 2,
   "id": "076f0a5f",
   "metadata": {},
   "outputs": [
    {
     "data": {
      "text/plain": [
       "[Index(['actor', 'movie_or_TV_name'], dtype='object')]"
      ]
     },
     "execution_count": 2,
     "metadata": {},
     "output_type": "execute_result"
    }
   ],
   "source": [
    "[df.columns]"
   ]
  },
  {
   "cell_type": "code",
   "execution_count": 4,
   "id": "999ecdc6",
   "metadata": {},
   "outputs": [
    {
     "data": {
      "image/png": "[encoded data removed]",
      "text/plain": [
       "<Figure size 720x360 with 1 Axes>"
      ]
     },
     "metadata": {
      "needs_background": "light"
     },
     "output_type": "display_data"
    }
   ],
   "source": [
    "import matplotlib.pyplot as plt\n",
    "fig = plt.figure(figsize = (10, 5))\n",
    " \n",
    "# creating the bar plot\n",
    "plt.bar(['Peaky Blinders','Doctors','Casualty','The Bill','Coronation Street'], [148, 48,39,34,29], color ='maroon',\n",
    "        width = 0.4)\n",
    " \n",
    "plt.xlabel(\"Movie or TV Name\")\n",
    "plt.ylabel(\"No. of Shared Actors\")\n",
    "plt.title(\"Peaky Blinders' Actors in TV/Movie Roles\")\n",
    "plt.show()"
   ]
  },
  {
   "cell_type": "code",
   "execution_count": null,
   "id": "84aa1848",
   "metadata": {},
   "outputs": [],
   "source": []
  }
 ],
 "metadata": {
  "kernelspec": {
   "display_name": "Python [conda env:PIC16B]",
   "language": "python",
   "name": "conda-env-PIC16B-py"
  },
  "language_info": {
   "codemirror_mode": {
    "name": "ipython",
    "version": 3
   },
   "file_extension": ".py",
   "mimetype": "text/x-python",
   "name": "python",
   "nbconvert_exporter": "python",
   "pygments_lexer": "ipython3",
   "version": "3.7.13"
  }
 },
 "nbformat": 4,
 "nbformat_minor": 5
}
